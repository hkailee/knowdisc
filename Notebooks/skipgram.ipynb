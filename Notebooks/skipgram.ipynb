{
 "cells": [
  {
   "cell_type": "code",
   "execution_count": 5,
   "metadata": {},
   "outputs": [
    {
     "name": "stdout",
     "output_type": "stream",
     "text": [
      "Collecting urllib2\n",
      "\u001b[31m  ERROR: Could not find a version that satisfies the requirement urllib2 (from versions: none)\u001b[0m\n",
      "\u001b[31mERROR: No matching distribution found for urllib2\u001b[0m\n"
     ]
    }
   ],
   "source": [
    "import sys\n",
    "# !{sys.executable} -m pip install urllib2"
   ]
  },
  {
   "cell_type": "code",
   "execution_count": 13,
   "metadata": {},
   "outputs": [],
   "source": [
    "from bs4 import BeautifulSoup\n",
    "import pandas as pd\n",
    "import re\n",
    "import urllib.request as urllib2"
   ]
  },
  {
   "cell_type": "code",
   "execution_count": 18,
   "metadata": {},
   "outputs": [],
   "source": [
    "# defines constants, results list and urls to start crawling from \n",
    "main_urls = 'https://pubmed.ncbi.nlm.nih.gov/'\n",
    "i = 0\n",
    "sections = []\n",
    "links = []\n",
    "\n",
    "df_metadata = pd.read_csv('Input/csv-Systemiclu-set.csv', index_col=0)\n",
    "ls_pmid = list(df_metadata.index)"
   ]
  },
  {
   "cell_type": "code",
   "execution_count": 34,
   "metadata": {},
   "outputs": [],
   "source": [
    "# loops through all pmid's\n",
    "for pmid in ls_pmid:\n",
    "    page = urllib2.urlopen(main_urls + str(pmid))\n",
    "    soup = BeautifulSoup(page.read())\n",
    "    df_metadata['abstract'] = soup.find('div', id='enc-abstract').p.string"
   ]
  },
  {
   "cell_type": "code",
   "execution_count": 38,
   "metadata": {},
   "outputs": [
    {
     "data": {
      "text/plain": [
       "'\\n    \\n\\n    \\n      Women have stronger immune responses to infections and vaccination than men. Paradoxically, the stronger immune response comes at a steep price, which is the high incidence of autoimmune diseases in women. The reasons why women have stronger immunity and higher incidence of autoimmunity are not clear. Besides gender, sex hormones contribute to the development and activity of the immune system, accounting for differences in gender-related immune responses. Both innate and adaptive immune systems bear receptors for sex hormones and respond to hormonal cues. This review focuses on the role of sex hormones particularly estrogen, in the adaptive immune response, in health, and autoimmune disease with an emphasis on systemic lupus erythematosus.\\n    \\n\\n    \\n  '"
      ]
     },
     "execution_count": 38,
     "metadata": {},
     "output_type": "execute_result"
    }
   ],
   "source": [
    "df_metadata.loc[31376267, 'abstract']"
   ]
  },
  {
   "cell_type": "code",
   "execution_count": null,
   "metadata": {},
   "outputs": [],
   "source": []
  }
 ],
 "metadata": {
  "kernelspec": {
   "display_name": "Python 3",
   "language": "python",
   "name": "python3"
  },
  "language_info": {
   "codemirror_mode": {
    "name": "ipython",
    "version": 3
   },
   "file_extension": ".py",
   "mimetype": "text/x-python",
   "name": "python",
   "nbconvert_exporter": "python",
   "pygments_lexer": "ipython3",
   "version": "3.6.9"
  }
 },
 "nbformat": 4,
 "nbformat_minor": 2
}
